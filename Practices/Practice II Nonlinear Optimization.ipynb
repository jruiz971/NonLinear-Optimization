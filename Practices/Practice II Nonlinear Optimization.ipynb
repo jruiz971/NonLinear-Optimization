{
 "cells": [
  {
   "cell_type": "markdown",
   "metadata": {},
   "source": [
    "# Licence\n",
    "\n",
    "\n",
    "### Python implementation of the following One-Dimensional Optimization Methods\n",
    "\n",
    "- Successive quadratic estimations\n",
    "- Newton-Raphson \n",
    "- Cuasi Newton\n",
    "- Bisection\n",
    "- Secant \n",
    "\n",
    "Copyright (C) 2021 Juan Luis Ruiz Vanegas (juanluisruiz971@comunidad.unam.mx)\n",
    "\n",
    "This program is free software: you can redistribute it and/or modify it under the terms of the GNU General Public License as published by the Free Software Foundation, either version 3 of the License, or (at your option) any later version.\n",
    "\n",
    "This program is distributed in the hope that it will be useful, but WITHOUT ANY WARRANTY; without even the implied warranty of MERCHANTABILITY or FITNESS FOR A PARTICULAR PURPOSE. See the GNU General Public License for more details.\n",
    "\n",
    "You should have received a copy of the GNU General Public License along with this program. If not, see https://www.gnu.org/licenses/.\n"
   ]
  },
  {
   "cell_type": "markdown",
   "metadata": {},
   "source": [
    "# 1. Find the optimal solution to the following problem:"
   ]
  },
  {
   "cell_type": "markdown",
   "metadata": {},
   "source": [
    "$max f(x) = \\frac{0.5}{\\sqrt{1+x^2}} - \\sqrt{1+x^2} (1 - \\frac{0.5}{1+x^2}) + x$"
   ]
  },
  {
   "cell_type": "markdown",
   "metadata": {},
   "source": [
    "## Plotting the function to make a first analysis of the maximum point"
   ]
  },
  {
   "cell_type": "code",
   "execution_count": 37,
   "metadata": {},
   "outputs": [
    {
     "data": {
      "image/png": "[encoded data removed]",
      "text/plain": [
       "<Figure size 432x288 with 1 Axes>"
      ]
     },
     "metadata": {
      "needs_background": "light"
     },
     "output_type": "display_data"
    }
   ],
   "source": [
    "import numpy as np\n",
    "import matplotlib.pyplot as plt\n",
    "\n",
    "def f(x):\n",
    "    return ( (0.5/(sqrt(1+x**2))) - (sqrt(1+x**2)) * (1- (0.5/(1+x**2))) +x )\n",
    "\n",
    "vecfunc = np.vectorize(f)\n",
    "\n",
    "d = np.arange(0.1, 5.0, 0.01)\n",
    "T = vecfunc(d)\n",
    "plt.plot (d, T, 'g')\n",
    "plt.grid()\n",
    "plt.show()"
   ]
  },
  {
   "cell_type": "markdown",
   "metadata": {},
   "source": [
    "## Calculating the derivatives "
   ]
  },
  {
   "cell_type": "code",
   "execution_count": 23,
   "metadata": {},
   "outputs": [
    {
     "name": "stdout",
     "output_type": "stream",
     "text": [
      "-x*(1 - 0.5/(x**2 + 1))/sqrt(x**2 + 1) - 1.5*x/(x**2 + 1)**(3/2) + 1 \n",
      " x**2*(1 - 0.5/(x**2 + 1))/(x**2 + 1)**(3/2) + 3.5*x**2/(x**2 + 1)**(5/2) - (1 - 0.5/(x**2 + 1))/sqrt(x**2 + 1) - 1.5/(x**2 + 1)**(3/2)\n"
     ]
    }
   ],
   "source": [
    "from sympy import *\n",
    "x = Symbol('x')\n",
    "\n",
    "formule = '(0.5/(sqrt(1+x**2))) - (sqrt(1+x**2)) * (1- (0.5/(1+x**2))) +x '\n",
    "\n",
    "y = sympify(formule)\n",
    "f1 = y.diff(x)\n",
    "f2 = f1.diff(x)\n",
    "print(f1,\"\\n\",f2)"
   ]
  },
  {
   "cell_type": "code",
   "execution_count": 3,
   "metadata": {},
   "outputs": [],
   "source": [
    "from math import sqrt"
   ]
  },
  {
   "cell_type": "markdown",
   "metadata": {},
   "source": [
    "## * The following methods assume minimization *"
   ]
  },
  {
   "cell_type": "markdown",
   "metadata": {},
   "source": [
    "The problem asks us to maximize $f(x)$, so the sign of the objective function must be changed."
   ]
  },
  {
   "cell_type": "markdown",
   "metadata": {},
   "source": [
    "- (a) (15 points) Using the successive quadratic estimations method. The input to your program will be: $x_0 = 0$, $\\Delta = 0.1$ and $\\epsilon_1 = 0.0001$. You should report the value obtained for $x^*$, $f(x^*)$ and the number of evaluations of $f(x)$ performed by your program."
   ]
  },
  {
   "cell_type": "code",
   "execution_count": null,
   "metadata": {},
   "outputs": [],
   "source": []
  },
  {
   "cell_type": "code",
   "execution_count": null,
   "metadata": {},
   "outputs": [],
   "source": []
  },
  {
   "cell_type": "markdown",
   "metadata": {},
   "source": [
    "- (b) (15 points) Using the Newton - Raphson method. The input to your program will be: $x_0 = 0$, and $\\epsilon_1 = 0.0001$. You should report the value obtained for $x^*$, $f(x^*)$ and the number of evaluations of $f^\\prime(x)$ performed by your program. In addition, you must include in your report the calculation of the first and second derivative $(f^\\prime(x)$ and $f^{\\prime\\prime}(x))$"
   ]
  },
  {
   "cell_type": "code",
   "execution_count": null,
   "metadata": {},
   "outputs": [],
   "source": []
  },
  {
   "cell_type": "markdown",
   "metadata": {},
   "source": [
    "- (c) (15 points) Using the Cuasi Newton method. The input to your program will be: $x_0 = 0$, y $\\epsilon_1 = 0.0001$ and $\\Delta = 0.01$. You should report the value obtained for $x^*$, $f(x^*)$ and the number of evaluations of $f(x)$ performed by your program."
   ]
  },
  {
   "cell_type": "code",
   "execution_count": null,
   "metadata": {},
   "outputs": [],
   "source": []
  },
  {
   "cell_type": "markdown",
   "metadata": {},
   "source": [
    "- (d) (15 points) Using the Bisection method. The input to your program will be: $a = 0$, $b = 5$, and $\\epsilon_1 = 0.0001$. You should report the value obtained for $x^*$, $f(x^*)$ and the number of evaluations of $f^\\prime(x)$ performed by your program."
   ]
  },
  {
   "cell_type": "code",
   "execution_count": 6,
   "metadata": {},
   "outputs": [
    {
     "name": "stdout",
     "output_type": "stream",
     "text": [
      "x* = 0.786\n",
      "f(x*) = 1.709\n",
      "Evaluations of f'(x) = 12\n"
     ]
    }
   ],
   "source": [
    "def f1(x):\n",
    "    \"\"\"\n",
    "    First derivative of the function. \n",
    "    \"\"\"\n",
    "    global evalF\n",
    "    evalF += 1\n",
    "    \n",
    "    return - ( -x/sqrt(1 + x**2) - x/(1 + x**2)**(3/2) + 1 ) \n",
    "    \n",
    "def Bisection():    \n",
    "    a, b, epsilon  = 0.0, 5, 1e-4\n",
    "    \"\"\"\n",
    "    uncomment the next line line to enter an input from the console, \n",
    "    in the format indicated and on a single line,\n",
    "    separated by a comma\"\"\"\n",
    "    #a, b, epsilon = [float(i) for i in input().split(\",\")]\n",
    "    \n",
    "    if( f1(a)<0 and f1(b)>0 ):\n",
    "        while( True ):        \n",
    "            z = (a+b)/2\n",
    "            f1_z = f1(z)\n",
    "            if( f1_z< 0 ):\n",
    "                a = z\n",
    "            else:\n",
    "                b = z\n",
    "                \n",
    "            if( abs(f1_z) <= epsilon ):\n",
    "                break\n",
    "        \n",
    "        return ( print(\"x* = {0:.3f}\\nf(x*) = {1:.3f}\\nEvaluations of f'(x) = {2}\".format(z, f(z), evalF)) )\n",
    "    else:\n",
    "        return (print (\"Error\") )\n",
    "    \n",
    "    \n",
    "    \n",
    "if __name__==\"__main__\":\n",
    "    evalF = 0\n",
    "    Bisection()"
   ]
  },
  {
   "cell_type": "markdown",
   "metadata": {},
   "source": [
    "- (e) (15 points) Using the Secant method. The input to your program will be: $a = 0$, $b = 5$, and $\\epsilon_1 = 0.0001$. You should report the value obtained for $x^*$, $f(x^*)$ and the number of evaluations of $f^\\prime(x)$ performed by your program."
   ]
  },
  {
   "cell_type": "code",
   "execution_count": 5,
   "metadata": {},
   "outputs": [
    {
     "name": "stdout",
     "output_type": "stream",
     "text": [
      "x* = 0.786\n",
      "f(x*) = 1.709\n",
      "Evaluations of f'(x) = 49\n"
     ]
    }
   ],
   "source": [
    "def f1(x):\n",
    "    global evalF\n",
    "    evalF += 1\n",
    "    return -(-x*(1 - 0.5/(x**2 + 1))/sqrt(x**2 + 1) - 1.5*x/(x**2 + 1)**(3/2) + 1)\n",
    "\n",
    "def Secante():\n",
    "    xL, xR , epsilon = 0.1, 5, 1e-4\n",
    "    \"\"\"\n",
    "    uncomment the next line line to enter an input from the console, \n",
    "    in the format indicated and on a single line,\n",
    "    separated by a comma\"\"\"\n",
    "    #xL, xR , epsilon = [float(i) for i in input().split(\",\")]\n",
    "    f1xL, f1xR = f1(xL), f1(xR)\n",
    "    \n",
    "    if( f1xL*f1xR < 0 ):\n",
    "        while( True ):        \n",
    "            z = xR - ( ( f1xR*(xR-xL) )/( f1xR-f1xL ) )\n",
    "            f1_z = f1(z)\n",
    "            if( f1_z< 0 ):\n",
    "                xL = z\n",
    "                f1xL = f1_z\n",
    "            else:\n",
    "                xR = z\n",
    "                f1xR = f1_z\n",
    "            if( abs(f1_z) <= epsilon ):\n",
    "                break\n",
    "            \n",
    "        return ( print(\"x* = {0:.3f}\\nf(x*) = {1:.3f}\\nEvaluations of f'(x) = {2}\".format(z, f(z), evalF)) )\n",
    "    else:\n",
    "        return (print (\"Error\") )\n",
    "    \n",
    "    \n",
    "    \n",
    "if __name__==\"__main__\":\n",
    "    evalF = 0\n",
    "    Secante()"
   ]
  },
  {
   "cell_type": "code",
   "execution_count": null,
   "metadata": {},
   "outputs": [],
   "source": []
  },
  {
   "cell_type": "code",
   "execution_count": null,
   "metadata": {},
   "outputs": [],
   "source": []
  },
  {
   "cell_type": "markdown",
   "metadata": {},
   "source": [
    "# 3. (20 points) Use the method of your choice to solve the following problem:  "
   ]
  },
  {
   "cell_type": "markdown",
   "metadata": {},
   "source": [
    "$min  g(x) = e^x - x^3$\n",
    "\n",
    "Indicate the input parameters you used and plot the function $g(x)$ in an interval containing the optimal solution."
   ]
  },
  {
   "cell_type": "markdown",
   "metadata": {},
   "source": [
    "## _Since these algorithms assume maximization, we will do the equivalent by multiplying $g(x)$ by $-1$_"
   ]
  },
  {
   "cell_type": "markdown",
   "metadata": {},
   "source": [
    "## Plotting the function to make a first analysis of the maximum point"
   ]
  },
  {
   "cell_type": "code",
   "execution_count": null,
   "metadata": {},
   "outputs": [],
   "source": []
  },
  {
   "cell_type": "code",
   "execution_count": null,
   "metadata": {},
   "outputs": [],
   "source": []
  },
  {
   "cell_type": "code",
   "execution_count": 4,
   "metadata": {},
   "outputs": [
    {
     "data": {
      "image/png": "[encoded data removed]",
      "text/plain": [
       "<Figure size 432x288 with 1 Axes>"
      ]
     },
     "metadata": {
      "needs_background": "light"
     },
     "output_type": "display_data"
    }
   ],
   "source": [
    "import numpy as np\n",
    "import matplotlib.pyplot as plt\n",
    "from math import e\n",
    "def f(x):\n",
    "    return ( e**x - x**3 )\n",
    "\n",
    "vecfunc = np.vectorize(f)\n",
    "\n",
    "d = np.arange(0.1, 5.0, 0.1)\n",
    "T = vecfunc(d)\n",
    "plt.plot (d, T, 'g')\n",
    "#plt.grid()\n",
    "plt.show()"
   ]
  },
  {
   "cell_type": "code",
   "execution_count": 33,
   "metadata": {},
   "outputs": [
    {
     "data": {
      "image/png": "[encoded data removed]",
      "text/plain": [
       "<Figure size 432x288 with 1 Axes>"
      ]
     },
     "metadata": {
      "needs_background": "light"
     },
     "output_type": "display_data"
    }
   ],
   "source": [
    "from numpy import *\n",
    "import math\n",
    "import matplotlib.pyplot as plt\n",
    "\n",
    "x = np.arange(0.1, 5.0, 0.1)\n",
    "a = math.e**x\n",
    "b = x**3\n",
    "\n",
    "\n",
    "plt.plot(x, a, 'r') # plotting t, a separately \n",
    "plt.plot(x, b, 'b') # plotting t, b separately \n",
    "\n",
    "plt.show()"
   ]
  },
  {
   "cell_type": "code",
   "execution_count": null,
   "metadata": {},
   "outputs": [],
   "source": []
  }
 ],
 "metadata": {
  "kernelspec": {
   "display_name": "Python 3",
   "language": "python",
   "name": "python3"
  },
  "language_info": {
   "codemirror_mode": {
    "name": "ipython",
    "version": 3
   },
   "file_extension": ".py",
   "mimetype": "text/x-python",
   "name": "python",
   "nbconvert_exporter": "python",
   "pygments_lexer": "ipython3",
   "version": "3.8.5"
  }
 },
 "nbformat": 4,
 "nbformat_minor": 4
}
