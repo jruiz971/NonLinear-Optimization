{
 "cells": [
  {
   "cell_type": "markdown",
   "metadata": {},
   "source": [
    "# Licence\n",
    "\n",
    "\n",
    "### Python implementation of the following One-Dimensional Optimization Methods\n",
    "\n",
    "- Successive quadratic estimations\n",
    "- Newton-Raphson \n",
    "- Cuasi Newton\n",
    "- Bisection\n",
    "- Secant \n",
    "\n",
    "Copyright (C) 2021 Juan Luis Ruiz Vanegas (juanluisruiz971@comunidad.unam.mx)\n",
    "\n",
    "This program is free software: you can redistribute it and/or modify it under the terms of the GNU General Public License as published by the Free Software Foundation, either version 3 of the License, or (at your option) any later version.\n",
    "\n",
    "This program is distributed in the hope that it will be useful, but WITHOUT ANY WARRANTY; without even the implied warranty of MERCHANTABILITY or FITNESS FOR A PARTICULAR PURPOSE. See the GNU General Public License for more details.\n",
    "\n",
    "You should have received a copy of the GNU General Public License along with this program. If not, see https://www.gnu.org/licenses/.\n"
   ]
  },
  {
   "cell_type": "markdown",
   "metadata": {},
   "source": [
    "# 1. Find the optimal solution to the following problem:"
   ]
  },
  {
   "cell_type": "markdown",
   "metadata": {},
   "source": [
    "$max f(x) = \\frac{0.5}{\\sqrt{1+x^2}} - \\sqrt{1+x^2} (1 - \\frac{0.5}{1+x^2}) + x$"
   ]
  },
  {
   "cell_type": "markdown",
   "metadata": {},
   "source": [
    "## Plotting the function to make a first analysis of the maximum point"
   ]
  },
  {
   "cell_type": "code",
   "execution_count": 11,
   "metadata": {},
   "outputs": [],
   "source": [
    "from math import sqrt, e"
   ]
  },
  {
   "cell_type": "code",
   "execution_count": 37,
   "metadata": {},
   "outputs": [
    {
     "data": {
      "image/png": "[encoded data removed]",
      "text/plain": [
       "<Figure size 432x288 with 1 Axes>"
      ]
     },
     "metadata": {
      "needs_background": "light"
     },
     "output_type": "display_data"
    }
   ],
   "source": [
    "import numpy as np\n",
    "import matplotlib.pyplot as plt\n",
    "\n",
    "def f(x):\n",
    "    return ( (0.5/(sqrt(1+x**2))) - (sqrt(1+x**2)) * (1- (0.5/(1+x**2))) +x )\n",
    "\n",
    "vecfunc = np.vectorize(f)\n",
    "\n",
    "d = np.arange(0.1, 5.0, 0.01)\n",
    "T = vecfunc(d)\n",
    "plt.plot (d, T, 'g')\n",
    "plt.grid()\n",
    "plt.show()"
   ]
  },
  {
   "cell_type": "markdown",
   "metadata": {},
   "source": [
    "## Calculating the derivatives "
   ]
  },
  {
   "cell_type": "code",
   "execution_count": 14,
   "metadata": {},
   "outputs": [
    {
     "name": "stdout",
     "output_type": "stream",
     "text": [
      "-x*(1 - 0.5/(x**2 + 1))/sqrt(x**2 + 1) - 1.5*x/(x**2 + 1)**(3/2) + 1 \n",
      "\n",
      " x**2*(1 - 0.5/(x**2 + 1))/(x**2 + 1)**(3/2) + 3.5*x**2/(x**2 + 1)**(5/2) - (1 - 0.5/(x**2 + 1))/sqrt(x**2 + 1) - 1.5/(x**2 + 1)**(3/2)\n"
     ]
    }
   ],
   "source": [
    "from sympy import *\n",
    "x = Symbol('x')\n",
    "\n",
    "formule = '(0.5/(sqrt(1+x**2))) - (sqrt(1+x**2)) * (1- (0.5/(1+x**2))) +x '\n",
    "\n",
    "y = sympify(formule)\n",
    "f1 = y.diff(x)\n",
    "f2 = f1.diff(x)\n",
    "print(f1,\"\\n\\n\",f2)"
   ]
  },
  {
   "cell_type": "markdown",
   "metadata": {},
   "source": [
    "## * The following methods assume minimization *"
   ]
  },
  {
   "cell_type": "markdown",
   "metadata": {},
   "source": [
    "The problem asks us to maximize $f(x)$, so the sign of the objective function must be changed."
   ]
  },
  {
   "cell_type": "markdown",
   "metadata": {},
   "source": [
    "- (a) (15 points) Using the successive quadratic estimations method. The input to your program will be: $x_0 = 0$, $\\Delta = 0.1$ and $\\epsilon_1 = 0.0001$. You should report the value obtained for $x^*$, $f(x^*)$ and the number of evaluations of $f(x)$ performed by your program."
   ]
  },
  {
   "cell_type": "code",
   "execution_count": 15,
   "metadata": {},
   "outputs": [
    {
     "ename": "NameError",
     "evalue": "name 'delta' is not defined",
     "output_type": "error",
     "traceback": [
      "\u001b[0;31m---------------------------------------------------------------------------\u001b[0m",
      "\u001b[0;31mNameError\u001b[0m                                 Traceback (most recent call last)",
      "\u001b[0;32m<ipython-input-15-4279854ffb8b>\u001b[0m in \u001b[0;36m<module>\u001b[0;34m\u001b[0m\n\u001b[1;32m     41\u001b[0m \u001b[0;34m\u001b[0m\u001b[0m\n\u001b[1;32m     42\u001b[0m \u001b[0;32mif\u001b[0m \u001b[0m__name__\u001b[0m\u001b[0;34m==\u001b[0m\u001b[0;34m\"__main__\"\u001b[0m\u001b[0;34m:\u001b[0m\u001b[0;34m\u001b[0m\u001b[0;34m\u001b[0m\u001b[0m\n\u001b[0;32m---> 43\u001b[0;31m     \u001b[0msuccessive_quadratic_estimates\u001b[0m\u001b[0;34m(\u001b[0m\u001b[0;34m)\u001b[0m\u001b[0;34m\u001b[0m\u001b[0;34m\u001b[0m\u001b[0m\n\u001b[0m",
      "\u001b[0;32m<ipython-input-15-4279854ffb8b>\u001b[0m in \u001b[0;36msuccessive_quadratic_estimates\u001b[0;34m()\u001b[0m\n\u001b[1;32m     13\u001b[0m     \u001b[0;31m#x1, delta, epsilon = [float(i) for i in input().split(\",\")]\u001b[0m\u001b[0;34m\u001b[0m\u001b[0;34m\u001b[0m\u001b[0;34m\u001b[0m\u001b[0m\n\u001b[1;32m     14\u001b[0m     \u001b[0mx1\u001b[0m\u001b[0;34m,\u001b[0m \u001b[0mdleta\u001b[0m\u001b[0;34m,\u001b[0m \u001b[0mepsilon\u001b[0m \u001b[0;34m=\u001b[0m \u001b[0;36m0\u001b[0m\u001b[0;34m,\u001b[0m \u001b[0;36m0.1\u001b[0m\u001b[0;34m,\u001b[0m \u001b[0;36m1e-4\u001b[0m\u001b[0;34m\u001b[0m\u001b[0;34m\u001b[0m\u001b[0m\n\u001b[0;32m---> 15\u001b[0;31m     \u001b[0mx2\u001b[0m \u001b[0;34m=\u001b[0m \u001b[0mx1\u001b[0m \u001b[0;34m+\u001b[0m \u001b[0mdelta\u001b[0m\u001b[0;34m\u001b[0m\u001b[0;34m\u001b[0m\u001b[0m\n\u001b[0m\u001b[1;32m     16\u001b[0m     \u001b[0mf_x1\u001b[0m\u001b[0;34m,\u001b[0m \u001b[0mf_x2\u001b[0m \u001b[0;34m=\u001b[0m \u001b[0mf\u001b[0m\u001b[0;34m(\u001b[0m\u001b[0mx1\u001b[0m\u001b[0;34m)\u001b[0m\u001b[0;34m,\u001b[0m \u001b[0mf\u001b[0m\u001b[0;34m(\u001b[0m\u001b[0mx2\u001b[0m\u001b[0;34m)\u001b[0m\u001b[0;34m\u001b[0m\u001b[0;34m\u001b[0m\u001b[0m\n\u001b[1;32m     17\u001b[0m \u001b[0;34m\u001b[0m\u001b[0m\n",
      "\u001b[0;31mNameError\u001b[0m: name 'delta' is not defined"
     ]
    }
   ],
   "source": [
    "def f(x):\n",
    "    return ( (0.5/(sqrt(1+x**2))) - (sqrt(1+x**2)) * (1- (0.5/(1+x**2))) +x )\n",
    "\n",
    "def optimo_b(x1,x2,x3, f_x1, f_x2, f_x3):\n",
    "    a0 = f_x1\n",
    "    a1 = ( f_x2-f_x1 )/( x2-x1 ) \n",
    "    a2 = ( 1/( x3-x2 ) )*( ((f_x3-f_x1)/(x3-x1)) - ((f_x2-f_x1)/(x2-x1) ) )\n",
    "    \n",
    "    b = ((x1+x2)/2)-((a1)/(2*a2))\n",
    "    return (b, f(b))\n",
    "\n",
    "def successive_quadratic_estimates():\n",
    "    #x1, delta, epsilon = [float(i) for i in input().split(\",\")]\n",
    "    x1, dleta, epsilon = 0, 0.1, 1e-4\n",
    "    x2 = x1 + delta\n",
    "    f_x1, f_x2 = f(x1), f(x2)\n",
    "    \n",
    "    if ( f_x1 > f_x2 ):\n",
    "        x3 = x1 + (2*delta)\n",
    "    else:\n",
    "        x3 = x1 - delta\n",
    "    l_aux = [x1,x2,x3]\n",
    "    l_aux.sort()\n",
    "    x1, x2, x3 = l_aux[0],l_aux[1],l_aux[2]\n",
    "    \n",
    "    \n",
    "    while( True ):\n",
    "        f_min, x_min = f(x1), x1\n",
    "        xb, f_b = optimo_b(x1,x2,x3, f(x1), f(x2), f(x3))\n",
    "        \n",
    "        l_aux.append(xb)\n",
    "        l_aux.sort()\n",
    "        x1, x2, x3 = l_aux[0],l_aux[1],l_aux[2]\n",
    "        l_aux.pop()\n",
    "\n",
    "        \n",
    "        if ( abs(x_min-xb) < epsilon ):\n",
    "            break\n",
    "        \n",
    "        return (print (xb, f_b))\n",
    "\n",
    "if __name__==\"__main__\":\n",
    "    successive_quadratic_estimates()"
   ]
  },
  {
   "cell_type": "code",
   "execution_count": 6,
   "metadata": {},
   "outputs": [],
   "source": []
  },
  {
   "cell_type": "code",
   "execution_count": 7,
   "metadata": {},
   "outputs": [
    {
     "ename": "NameError",
     "evalue": "name 'evalF' is not defined",
     "output_type": "error",
     "traceback": [
      "\u001b[0;31m---------------------------------------------------------------------------\u001b[0m",
      "\u001b[0;31mNameError\u001b[0m                                 Traceback (most recent call last)",
      "\u001b[0;32m<ipython-input-7-e351a4d9ae37>\u001b[0m in \u001b[0;36m<module>\u001b[0;34m\u001b[0m\n\u001b[1;32m      3\u001b[0m \u001b[0mdelt\u001b[0m \u001b[0;34m=\u001b[0m \u001b[0mfloat\u001b[0m\u001b[0;34m(\u001b[0m\u001b[0mdelta\u001b[0m\u001b[0;34m)\u001b[0m\u001b[0;34m\u001b[0m\u001b[0;34m\u001b[0m\u001b[0m\n\u001b[1;32m      4\u001b[0m \u001b[0meps\u001b[0m \u001b[0;34m=\u001b[0m \u001b[0mfloat\u001b[0m\u001b[0;34m(\u001b[0m\u001b[0meps\u001b[0m\u001b[0;34m)\u001b[0m\u001b[0;34m\u001b[0m\u001b[0;34m\u001b[0m\u001b[0m\n\u001b[0;32m----> 5\u001b[0;31m \u001b[0mprint\u001b[0m\u001b[0;34m(\u001b[0m\u001b[0mest_squared\u001b[0m\u001b[0;34m(\u001b[0m\u001b[0mx0\u001b[0m\u001b[0;34m,\u001b[0m \u001b[0mdelt\u001b[0m\u001b[0;34m,\u001b[0m \u001b[0meps\u001b[0m\u001b[0;34m)\u001b[0m\u001b[0;34m)\u001b[0m\u001b[0;34m\u001b[0m\u001b[0;34m\u001b[0m\u001b[0m\n\u001b[0m\u001b[1;32m      6\u001b[0m \u001b[0;31m# Para que no haya problema con los contadores globales\u001b[0m\u001b[0;34m\u001b[0m\u001b[0;34m\u001b[0m\u001b[0;34m\u001b[0m\u001b[0m\n\u001b[1;32m      7\u001b[0m \u001b[0;31m# a la hora de correr otras funciones que hagan uso del\u001b[0m\u001b[0;34m\u001b[0m\u001b[0;34m\u001b[0m\u001b[0;34m\u001b[0m\u001b[0m\n",
      "\u001b[0;32m<ipython-input-6-289042bf4737>\u001b[0m in \u001b[0;36mest_squared\u001b[0;34m(x1, delta, epsilon)\u001b[0m\n\u001b[1;32m     72\u001b[0m     \u001b[0mp1\u001b[0m \u001b[0;34m=\u001b[0m \u001b[0;34m\"{0:.3f}\"\u001b[0m\u001b[0;34m.\u001b[0m\u001b[0mformat\u001b[0m\u001b[0;34m(\u001b[0m\u001b[0mxb\u001b[0m\u001b[0;34m)\u001b[0m\u001b[0;34m\u001b[0m\u001b[0;34m\u001b[0m\u001b[0m\n\u001b[1;32m     73\u001b[0m     \u001b[0mp2\u001b[0m \u001b[0;34m=\u001b[0m \u001b[0;34m\"{0:.3f}\"\u001b[0m\u001b[0;34m.\u001b[0m\u001b[0mformat\u001b[0m\u001b[0;34m(\u001b[0m\u001b[0mf_b\u001b[0m\u001b[0;34m)\u001b[0m\u001b[0;34m\u001b[0m\u001b[0;34m\u001b[0m\u001b[0m\n\u001b[0;32m---> 74\u001b[0;31m     \u001b[0;32mreturn\u001b[0m \u001b[0;34m(\u001b[0m\u001b[0;34mf\"({p1}, {p2})\\n{evalF-2}\"\u001b[0m\u001b[0;34m)\u001b[0m\u001b[0;34m\u001b[0m\u001b[0;34m\u001b[0m\u001b[0m\n\u001b[0m",
      "\u001b[0;31mNameError\u001b[0m: name 'evalF' is not defined"
     ]
    }
   ],
   "source": []
  },
  {
   "cell_type": "markdown",
   "metadata": {},
   "source": [
    "- (b) (15 points) Using the Newton - Raphson method. The input to your program will be: $x_0 = 0$, and $\\epsilon_1 = 0.0001$. You should report the value obtained for $x^*$, $f(x^*)$ and the number of evaluations of $f^\\prime(x)$ performed by your program. In addition, you must include in your report the calculation of the first and second derivative $(f^\\prime(x)$ and $f^{\\prime\\prime}(x))$"
   ]
  },
  {
   "cell_type": "code",
   "execution_count": 14,
   "metadata": {},
   "outputs": [
    {
     "name": "stdout",
     "output_type": "stream",
     "text": [
      "x* = 0.786\n",
      "f(x*) = 0.300\n",
      "Evaluations of f'(x) = 6\n"
     ]
    }
   ],
   "source": [
    "def f1(x):\n",
    "    \"\"\"\n",
    "    First derivative of the function. \n",
    "    \"\"\"\n",
    "    global evalF\n",
    "    evalF += 1\n",
    "    \n",
    "    return - ( -x/sqrt(1 + x**2) - x/(1 + x**2)**(3/2) + 1 ) \n",
    "\n",
    "def f(x):\n",
    "    return ( (0.5/(sqrt(1+x**2))) - (sqrt(1+x**2)) * (1- (0.5/(1+x**2))) +x )\n",
    "\n",
    "def f2(x):\n",
    "    \n",
    "    numerador = (x**2) - 2\n",
    "    denominador = pow((x**2 + 1), 5/2)\n",
    "    #return -( ((x**2) - 2)/ (pow((x**2 + 1), 5/2)) )\n",
    "    return -(numerador/denominador)\n",
    "\n",
    "\n",
    "def Newton_Raphson():\n",
    "    #x1, epsilon = [float(i) for i in input().split(\",\")]\n",
    "    \n",
    "    x1, epsilon = 0, 1e-4\n",
    "    k = 0\n",
    "    x = [x1]\n",
    "    f1x = f1(x[k])\n",
    "    while( abs(f1x) > epsilon ):\n",
    "        \n",
    "        x_k_1 = x[k] - (f1x/f2(x[k]))\n",
    "        x.append(x_k_1)\n",
    "        k+=1\n",
    "        f1x = f1(x[k])\n",
    "    \n",
    "    return ( print(\"x* = {0:.3f}\\nf(x*) = {1:.3f}\\nEvaluations of f'(x) = {2}\".format(x_k_1, f(x_k_1), evalF)) )\n",
    "\n",
    "    \n",
    "    \n",
    "    \n",
    "if __name__==\"__main__\":\n",
    "    evalF = 0\n",
    "    Newton_Raphson()"
   ]
  },
  {
   "cell_type": "markdown",
   "metadata": {},
   "source": [
    "- (c) (15 points) Using the Cuasi Newton method. The input to your program will be: $x_0 = 0$, y $\\epsilon_1 = 0.0001$ and $\\Delta = 0.01$. You should report the value obtained for $x^*$, $f(x^*)$ and the number of evaluations of $f(x)$ performed by your program."
   ]
  },
  {
   "cell_type": "code",
   "execution_count": 9,
   "metadata": {},
   "outputs": [
    {
     "name": "stdout",
     "output_type": "stream",
     "text": [
      "(0.786,0.300)\n",
      "18\n"
     ]
    }
   ],
   "source": [
    "def f(x):\n",
    "    return ( (0.5/(sqrt(1+x**2))) - (sqrt(1+x**2)) * (1- (0.5/(1+x**2))) +x )\n",
    "\n",
    "\n",
    "def f1(x, delta):\n",
    "    \n",
    "    global evalF\n",
    "    evalF +=1\n",
    "\n",
    "    numerador = f(x+delta) - f(x-delta)\n",
    "    denominador =  2*delta\n",
    "    #return (f(x+delta) - f(x-delta))/2*delta \n",
    "    return(numerador/denominador)\n",
    "\n",
    "def f2(x, delta):\n",
    "    \n",
    "    global evalF\n",
    "    evalF +=1\n",
    "    numerador = f(x+delta) - (2*f(x)) + f(x-delta)\n",
    "    denominador = delta**2\n",
    "    \n",
    "    #return (f(x+delta) - (2*f(x)) + f(x-delta)/delta**2)\n",
    "    return(numerador/denominador)\n",
    "\n",
    "def Cuasi_Newton():\n",
    "    #x0, epsilon, delta = [float(i) for i in input().split(\",\")]\n",
    "    x0, epsilon, delta = 0, 1e-4, 1e-2\n",
    "    k = 0\n",
    "    x = [x0]\n",
    "    f1x = f1(x[k],delta)\n",
    "    while( abs(f1x) > epsilon ):\n",
    "        \n",
    "        x_k_1 = x[k] - (f1x/f2(x[k],delta))\n",
    "        x.append(x_k_1)\n",
    "        k+=1\n",
    "        f1x = f1(x[k],delta)\n",
    "    \n",
    "    return ( print(\"({0:.3f},{1:.3f})\\n{2}\".format(x_k_1, f(x_k_1), k*3+3)) )\n",
    "\n",
    "    \n",
    "if __name__==\"__main__\":\n",
    "    evalF = 0\n",
    "    Cuasi_Newton()"
   ]
  },
  {
   "cell_type": "markdown",
   "metadata": {},
   "source": [
    "- (d) (15 points) Using the Bisection method. The input to your program will be: $a = 0$, $b = 5$, and $\\epsilon_1 = 0.0001$. You should report the value obtained for $x^*$, $f(x^*)$ and the number of evaluations of $f^\\prime(x)$ performed by your program."
   ]
  },
  {
   "cell_type": "code",
   "execution_count": 6,
   "metadata": {},
   "outputs": [
    {
     "name": "stdout",
     "output_type": "stream",
     "text": [
      "x* = 0.786\n",
      "f(x*) = 0.300\n",
      "Evaluations of f'(x) = 12\n"
     ]
    }
   ],
   "source": [
    "def f1(x):\n",
    "    \"\"\"\n",
    "    First derivative of the function. \n",
    "    \"\"\"\n",
    "    global evalF\n",
    "    evalF += 1\n",
    "    \n",
    "    return - ( -x/sqrt(1 + x**2) - x/(1 + x**2)**(3/2) + 1 ) \n",
    "\n",
    "def f(x):\n",
    "    return ( (0.5/(sqrt(1+x**2))) - (sqrt(1+x**2)) * (1- (0.5/(1+x**2))) +x )\n",
    "def Bisection():    \n",
    "    a, b, epsilon  = 0.0, 5, 1e-4\n",
    "    \"\"\"\n",
    "    uncomment the next line line to enter an input from the console, \n",
    "    in the format indicated and on a single line,\n",
    "    separated by a comma\"\"\"\n",
    "    #a, b, epsilon = [float(i) for i in input().split(\",\")]\n",
    "    \n",
    "    if( f1(a)<0 and f1(b)>0 ):\n",
    "        while( True ):        \n",
    "            z = (a+b)/2\n",
    "            f1_z = f1(z)\n",
    "            if( f1_z< 0 ):\n",
    "                a = z\n",
    "            else:\n",
    "                b = z\n",
    "                \n",
    "            if( abs(f1_z) <= epsilon ):\n",
    "                break\n",
    "        \n",
    "        return ( print(\"x* = {0:.3f}\\nf(x*) = {1:.3f}\\nEvaluations of f'(x) = {2}\".format(z, f(z), evalF)) )\n",
    "    else:\n",
    "        return (print (\"Error\") )\n",
    "    \n",
    "    \n",
    "    \n",
    "if __name__==\"__main__\":\n",
    "    evalF = 0\n",
    "    Bisection()"
   ]
  },
  {
   "cell_type": "markdown",
   "metadata": {},
   "source": [
    "- (e) (15 points) Using the Secant method. The input to your program will be: $a = 0$, $b = 5$, and $\\epsilon_1 = 0.0001$. You should report the value obtained for $x^*$, $f(x^*)$ and the number of evaluations of $f^\\prime(x)$ performed by your program."
   ]
  },
  {
   "cell_type": "code",
   "execution_count": 4,
   "metadata": {},
   "outputs": [
    {
     "name": "stdout",
     "output_type": "stream",
     "text": [
      "x* = 0.786\n",
      "f(x*) = 0.000\n",
      "Evaluations of f'(x) = 50\n"
     ]
    }
   ],
   "source": [
    "def f1(x):\n",
    "    global evalF\n",
    "    evalF += 1\n",
    "    return -(-x*(1 - 0.5/(x**2 + 1))/sqrt(x**2 + 1) - 1.5*x/(x**2 + 1)**(3/2) + 1)\n",
    "\n",
    "def Secante():\n",
    "    xL, xR , epsilon = 0.1, 5, 1e-4\n",
    "    \"\"\"\n",
    "    uncomment the next line line to enter an input from the console, \n",
    "    in the format indicated and on a single line,\n",
    "    separated by a comma\"\"\"\n",
    "    #xL, xR , epsilon = [float(i) for i in input().split(\",\")]\n",
    "    f1xL, f1xR = f1(xL), f1(xR)\n",
    "    \n",
    "    if( f1xL*f1xR < 0 ):\n",
    "        while( True ):        \n",
    "            z = xR - ( ( f1xR*(xR-xL) )/( f1xR-f1xL ) )\n",
    "            f1_z = f1(z)\n",
    "            if( f1_z< 0 ):\n",
    "                xL = z\n",
    "                f1xL = f1_z\n",
    "            else:\n",
    "                xR = z\n",
    "                f1xR = f1_z\n",
    "            if( abs(f1_z) <= epsilon ):\n",
    "                break\n",
    "            \n",
    "        return ( print(\"x* = {0:.3f}\\nf(x*) = {1:.3f}\\nEvaluations of f'(x) = {2}\".format(z, f1(z), evalF)) )\n",
    "    else:\n",
    "        return (print (\"Error\") )\n",
    "    \n",
    "    \n",
    "    \n",
    "if __name__==\"__main__\":\n",
    "    evalF = 0\n",
    "    Secante()\n",
    "\n"
   ]
  },
  {
   "cell_type": "markdown",
   "metadata": {},
   "source": [
    "## 2. (5 points) Graph the function $f(x)$, on the interval \n",
    "$$[x^*- 1 ,  x^* + 1]$$"
   ]
  },
  {
   "cell_type": "code",
   "execution_count": 65,
   "metadata": {},
   "outputs": [
    {
     "data": {
      "image/png": "[encoded data removed]",
      "text/plain": [
       "<Figure size 432x288 with 1 Axes>"
      ]
     },
     "metadata": {
      "needs_background": "light"
     },
     "output_type": "display_data"
    }
   ],
   "source": [
    "from math import sqrt\n",
    "import matplotlib.pyplot as plt\n",
    "def f(x):\n",
    "    return ( (0.5/(sqrt(1+x**2))) - (sqrt(1+x**2)) * (1- (0.5/(1+x**2))) +x )\n",
    "\n",
    "vecfunc = np.vectorize(f)\n",
    "x_opt = 0.786\n",
    "d = np.arange(x_opt -1,x_opt +1, 0.01)\n",
    "T = vecfunc(d)\n",
    "plt.plot (d, T, 'g', label = 'f(x)')\n",
    "plt.plot (x_opt,f(x_opt), 'ro', label='x*={0}'.format(x_opt))\n",
    "plt.legend(loc=\"lower right\")\n",
    "plt.grid()\n",
    "plt.show()"
   ]
  },
  {
   "cell_type": "markdown",
   "metadata": {},
   "source": [
    "## 3. (20 points) Use the method of your choice to solve the following problem:  "
   ]
  },
  {
   "cell_type": "markdown",
   "metadata": {},
   "source": [
    "$min  g(x) = e^x - x^3$\n",
    "\n",
    "Indicate the input parameters you used and plot the function $g(x)$ in an interval containing the optimal solution."
   ]
  },
  {
   "cell_type": "markdown",
   "metadata": {},
   "source": [
    "## Plotting the function to make a first analysis of the maximum point"
   ]
  },
  {
   "cell_type": "code",
   "execution_count": 82,
   "metadata": {},
   "outputs": [
    {
     "data": {
      "image/png": "[encoded data removed]",
      "text/plain": [
       "<Figure size 432x288 with 1 Axes>"
      ]
     },
     "metadata": {
      "needs_background": "light"
     },
     "output_type": "display_data"
    }
   ],
   "source": [
    "from math import e\n",
    "x = np.arange(-5, 7.0, 0.1)\n",
    "a = math.e**x\n",
    "b = x**3\n",
    "\n",
    "\n",
    "plt.plot(x, a, 'r', label='e^x') # plotting t, a separately \n",
    "plt.plot(x, b, 'b', label = 'x^3') # plotting t, b separately \n",
    "plt.legend(loc=\"upper left\")\n",
    "plt.show()"
   ]
  },
  {
   "cell_type": "code",
   "execution_count": 57,
   "metadata": {},
   "outputs": [
    {
     "data": {
      "image/png": "[encoded data removed]",
      "text/plain": [
       "<Figure size 432x288 with 4 Axes>"
      ]
     },
     "metadata": {
      "needs_background": "light"
     },
     "output_type": "display_data"
    }
   ],
   "source": [
    "import matplotlib.pyplot as plt\n",
    "import numpy as np\n",
    "\n",
    "def f(x):\n",
    "    return ( e**x - x**3 )\n",
    "\n",
    "vecfunc = np.vectorize(f)\n",
    "\n",
    "d1 = np.arange(-10, 10.0, 0.1); T1 = vecfunc(d1)\n",
    "d2 = np.arange(-5, 7.0, 0.1); T2 = vecfunc(d2)\n",
    "d3 = np.arange(0, 5.0, 0.1); T3 = vecfunc(d3)\n",
    "d4 = np.arange(3, 4.5, 0.1); T4 = vecfunc(d4)\n",
    "\n",
    "\n",
    "\n",
    "fig, axs = plt.subplots(2, 2)\n",
    "fig.suptitle('Graph of the function in different intervals')\n",
    "\n",
    "axs[0, 0].plot(d1, T1, 'tab:red'); axs[0, 0].set_title('Interval [-10, 10]')\n",
    "axs[0, 1].plot(d2, T2, 'tab:orange'); axs[0, 1].set_title('Interval [-5, 7]')\n",
    "axs[1, 0].plot(d3, T3, 'tab:green');  axs[1, 0].set_title('Interval [0, 5]')\n",
    "axs[1, 1].plot(d4, T4, 'tab:blue');    axs[1, 1].set_title('Interval [3, 4.5]')\n",
    "\n",
    "\n",
    "for ax in axs.flat:\n",
    "    ax.set(xlabel='x-label', ylabel='y-label')\n",
    "\n",
    "# Hide x labels and tick labels for top plots and y ticks for right plots.\n",
    "for ax in axs.flat:\n",
    "    ax.label_outer()"
   ]
  },
  {
   "cell_type": "markdown",
   "metadata": {},
   "source": [
    "The minimum is in the interval $[3.5,4]$."
   ]
  },
  {
   "cell_type": "markdown",
   "metadata": {},
   "source": [
    "### I am going to use the Newton-Raphson method, so I need to calculate the first derivative"
   ]
  },
  {
   "cell_type": "code",
   "execution_count": 72,
   "metadata": {},
   "outputs": [
    {
     "name": "stdout",
     "output_type": "stream",
     "text": [
      "e**x*log(e) - 3*x**2\n"
     ]
    }
   ],
   "source": [
    "from sympy import *\n",
    "x = Symbol('x')\n",
    "\n",
    "formule = 'e**x - x**3'\n",
    "\n",
    "y = sympify(formule)\n",
    "f1 = y.diff(x)\n",
    "print(f1)"
   ]
  },
  {
   "cell_type": "code",
   "execution_count": 13,
   "metadata": {},
   "outputs": [
    {
     "name": "stdout",
     "output_type": "stream",
     "text": [
      "x* = 3.733\n",
      "f(x*) = -10.216\n",
      "Evaluations of f'(x) = 17\n"
     ]
    }
   ],
   "source": [
    "def f(x):\n",
    "    return ( e**x - x**3 )\n",
    "def f1(x):\n",
    "    \"\"\"\n",
    "    First derivative of the function. \n",
    "    \"\"\"\n",
    "    global evalF\n",
    "    evalF += 1\n",
    "    \n",
    "    return ( e**x - 3*x**2 )\n",
    "\n",
    "def Bisection():    \n",
    "    a, b, epsilon  = 3.5, 4, 1e-4\n",
    "    \"\"\"\n",
    "    uncomment the next line line to enter an input from the console, \n",
    "    in the format indicated and on a single line,\n",
    "    separated by a comma\"\"\"\n",
    "    #a, b, epsilon = [float(i) for i in input().split(\",\")]\n",
    "    \n",
    "    if( f1(a)<0 and f1(b)>0 ):\n",
    "        while( True ):        \n",
    "            z = (a+b)/2\n",
    "            f1_z = f1(z)\n",
    "            if( f1_z< 0 ):\n",
    "                a = z\n",
    "            else:\n",
    "                b = z\n",
    "                \n",
    "            if( abs(f1_z) <= epsilon ):\n",
    "                break\n",
    "        \n",
    "        return ( print(\"x* = {0:.3f}\\nf(x*) = {1:.3f}\\nEvaluations of f'(x) = {2}\".format(z, f(z), evalF)) )\n",
    "    else:\n",
    "        return (print (\"Error\") )\n",
    "    \n",
    "    \n",
    "    \n",
    "if __name__==\"__main__\":\n",
    "    evalF = 0\n",
    "    Bisection()"
   ]
  },
  {
   "cell_type": "code",
   "execution_count": 12,
   "metadata": {},
   "outputs": [
    {
     "name": "stdout",
     "output_type": "stream",
     "text": [
      "x* = 3.733\n",
      "f(x*) = -10.216\n",
      "Evaluations of f'(x) = 5\n"
     ]
    }
   ],
   "source": [
    "def f1(x):\n",
    "    \"\"\"\n",
    "    First derivative of the function. \n",
    "    \"\"\"\n",
    "    global evalF\n",
    "    evalF += 1\n",
    "    \n",
    "    return ( e**x - 3*x**2 )\n",
    "\n",
    "def f(x):\n",
    "    return ( e**x - x**3 )\n",
    "\n",
    "def f2(x):\n",
    "    \n",
    "    return (e**x - 6*x)\n",
    "\n",
    "\n",
    "def Newton_Raphson():\n",
    "    #x1, epsilon = [float(i) for i in input().split(\",\")]\n",
    "    \n",
    "    x1, epsilon = 3.5, 1e-4\n",
    "    k = 0\n",
    "    x = [x1]\n",
    "    f1x = f1(x[k])\n",
    "    while( abs(f1x) > epsilon ):\n",
    "        \n",
    "        x_k_1 = x[k] - (f1x/f2(x[k]))\n",
    "        x.append(x_k_1)\n",
    "        k+=1\n",
    "        f1x = f1(x[k])\n",
    "    \n",
    "    return ( print(\"x* = {0:.3f}\\nf(x*) = {1:.3f}\\nEvaluations of f'(x) = {2}\".format(x_k_1, f(x_k_1), evalF)) )\n",
    "\n",
    "    \n",
    "    \n",
    "    \n",
    "if __name__==\"__main__\":\n",
    "    evalF = 0\n",
    "    Newton_Raphson()"
   ]
  },
  {
   "cell_type": "markdown",
   "metadata": {},
   "source": [
    "### Graph with minimum point"
   ]
  },
  {
   "cell_type": "code",
   "execution_count": 80,
   "metadata": {},
   "outputs": [
    {
     "data": {
      "image/png": "[encoded data removed]",
      "text/plain": [
       "<Figure size 432x288 with 1 Axes>"
      ]
     },
     "metadata": {
      "needs_background": "light"
     },
     "output_type": "display_data"
    }
   ],
   "source": [
    "def f(x):\n",
    "    return ( e**x - x**3 )\n",
    "\n",
    "vecfunc = np.vectorize(f)\n",
    "x_opt = 3.733\n",
    "delta = .5\n",
    "d = np.arange(x_opt - delta ,x_opt + delta, 0.01)\n",
    "T = vecfunc(d)\n",
    "plt.plot (d, T, 'g', label = 'f(x)')\n",
    "plt.plot (x_opt,f(x_opt), 'ro', label='x*={0}'.format(x_opt))\n",
    "plt.legend(loc=\"upper left\")\n",
    "plt.grid()\n",
    "plt.show()"
   ]
  },
  {
   "cell_type": "code",
   "execution_count": null,
   "metadata": {},
   "outputs": [],
   "source": []
  }
 ],
 "metadata": {
  "kernelspec": {
   "display_name": "Python 3",
   "language": "python",
   "name": "python3"
  },
  "language_info": {
   "codemirror_mode": {
    "name": "ipython",
    "version": 3
   },
   "file_extension": ".py",
   "mimetype": "text/x-python",
   "name": "python",
   "nbconvert_exporter": "python",
   "pygments_lexer": "ipython3",
   "version": "3.8.5"
  }
 },
 "nbformat": 4,
 "nbformat_minor": 4
}
