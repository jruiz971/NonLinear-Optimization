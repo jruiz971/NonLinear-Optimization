{
 "cells": [
  {
   "cell_type": "markdown",
   "metadata": {},
   "source": [
    "# Licence\n",
    "\n",
    "One-Dimensional Optimization Methods\n",
    "\n",
    "Copyright (C) 2021 Juan Luis Ruiz Vanegas (juanluisruiz971@comunidad.unam.mx)\n",
    "\n",
    "This program is free software: you can redistribute it and/or modify it under the terms of the GNU General Public License as published by the Free Software Foundation, either version 3 of the License, or (at your option) any later version.\n",
    "\n",
    "This program is distributed in the hope that it will be useful, but WITHOUT ANY WARRANTY; without even the implied warranty of MERCHANTABILITY or FITNESS FOR A PARTICULAR PURPOSE. See the GNU General Public License for more details.\n",
    "\n",
    "You should have received a copy of the GNU General Public License along with this program. If not, see https://www.gnu.org/licenses/.\n"
   ]
  },
  {
   "cell_type": "markdown",
   "metadata": {},
   "source": [
    "# Practice I\n",
    "## Nonlinear Optimization"
   ]
  },
  {
   "cell_type": "markdown",
   "metadata": {},
   "source": [
    "### Python implementation of the following nonlinear optimization methods\n",
    "\n",
    "- Exhaustive search\n",
    "- Dividing intervals in half\n",
    "- Fibonacci\n",
    "- Golden section\n",
    "\n",
    "##### The input data depends on each method and the output of the program should be: Interval in which the optimum is found $([a^∗, b^∗])$ and the number of evaluations of the objective function that were made."
   ]
  },
  {
   "cell_type": "markdown",
   "metadata": {},
   "source": [
    "## Excercises:"
   ]
  },
  {
   "cell_type": "markdown",
   "metadata": {},
   "source": [
    "### 1. (60 points) Using the above methods minimize the following function:\n",
    "\n",
    "- $f(x) = 0.65 - [\\frac{0.75}{1+x^2}] - (0.65 x)\n",
    "atan(\\frac{1}{x})$\n",
    "\n",
    "In the interval $[0, 3]$. A precision of 0.001 is required."
   ]
  },
  {
   "cell_type": "markdown",
   "metadata": {},
   "source": [
    "### Exhaustive search"
   ]
  },
  {
   "cell_type": "markdown",
   "metadata": {},
   "source": [
    "Input Format\n",
    "\n",
    "The interval $[a,b]$ and the precision $\\epsilon$ in the following format:\n",
    "\n",
    "- a,b,$\\epsilon$"
   ]
  },
  {
   "cell_type": "markdown",
   "metadata": {},
   "source": [
    "Output Format\n",
    "\n",
    "$(a,b)$ Interval in which the optimum lies. Both a and b must be printed with a precision of three digits.\n",
    "\n",
    "$evalF$ Number of evaluations of the objective function f that had to be performed to find the interval."
   ]
  },
  {
   "cell_type": "markdown",
   "metadata": {},
   "source": [
    "###  Phase of bounding"
   ]
  },
  {
   "cell_type": "markdown",
   "metadata": {},
   "source": [
    "Input Format\n",
    "\n",
    "Starting point $x_0$ and the increment $\\Delta$ in the following format:\n",
    "\n",
    "- $x_0$,$\\Delta$"
   ]
  },
  {
   "cell_type": "markdown",
   "metadata": {},
   "source": [
    "Output Format\n",
    "\n",
    "$(a,b)$ Interval in which the optimum lies. Both a and b must be printed with a precision of three digits.\n",
    "\n",
    "$evalF$ Number of evaluations of the objective function f that had to be performed to find the interval."
   ]
  },
  {
   "cell_type": "markdown",
   "metadata": {},
   "source": [
    "### Dividing intervals in half"
   ]
  },
  {
   "cell_type": "markdown",
   "metadata": {},
   "source": [
    "Input Format\n",
    "\n",
    "The interval $[a,b]$ and the precision $\\epsilon$ in the following format:\n",
    "\n",
    "- a,b,$\\epsilon$"
   ]
  },
  {
   "cell_type": "markdown",
   "metadata": {},
   "source": [
    "Output Format\n",
    "\n",
    "$(a,b)$ Interval in which the optimum lies. Both a and b must be printed with a precision of three digits.\n",
    "\n",
    "$evalF$ Number of evaluations of the objective function f that had to be performed to find the interval."
   ]
  },
  {
   "cell_type": "markdown",
   "metadata": {},
   "source": [
    "### Fibonacci"
   ]
  },
  {
   "cell_type": "markdown",
   "metadata": {},
   "source": [
    "Input Format\n",
    "\n",
    "The interval $[a,b]$ and $n$ (last element of the Fibonacci sequence to be used by the algorithm)"
   ]
  },
  {
   "cell_type": "markdown",
   "metadata": {},
   "source": [
    "Output Format\n",
    "\n",
    "$(a,b)$ Interval in which the optimum lies. Both a and b must be printed with a precision of three digits.\n",
    "\n",
    "$evalF$ Number of evaluations of the objective function f that had to be performed to find the interval."
   ]
  },
  {
   "cell_type": "markdown",
   "metadata": {},
   "source": [
    "### Golden section"
   ]
  },
  {
   "cell_type": "markdown",
   "metadata": {},
   "source": [
    "Input Format\n",
    "\n",
    "The interval $[a,b]$ and the precision $\\epsilon$ in the following format:\n",
    "\n",
    "- a,b,$\\epsilon$"
   ]
  },
  {
   "cell_type": "markdown",
   "metadata": {},
   "source": [
    "Output Format\n",
    "\n",
    "$(a,b)$ Interval in which the optimum lies. Both a and b must be printed with a precision of three digits.\n",
    "\n",
    "$evalF$ Number of evaluations of the objective function f that had to be performed to find the interval."
   ]
  },
  {
   "cell_type": "code",
   "execution_count": 103,
   "metadata": {},
   "outputs": [
    {
     "name": "stdout",
     "output_type": "stream",
     "text": [
      "Exhaustive Search: \n",
      "\t-The optimum point, with an accuracy of 0.001, is located in the interval (0.481,0.482)\n",
      "\t-Evaluations:963\n",
      "\n",
      "Phase of Bounding\n",
      "\t-Optimum precision bounding with a delta of 1e-05, is located in the interval (0.482,0.728)  starting at point 0.4\n",
      "\t-Evaluations:17\n",
      "\n",
      "Dividing Intervals in half:\n",
      "\t-The optimum point, with an accuracy of 0.001, is located in the interval (0.480,0.481)\n",
      "\t-Evaluations:25\n",
      "\n",
      "FibonacciSearch:\n",
      "\t-The optimum point is located in the interval (0.481,0.482)\n",
      "\t-Evaluations:17\n",
      "\n",
      "Golden Section:\n",
      "\t-The optimum point, with an accuracy of 0.001, is located in the interval (0.481,0.481)\n",
      "\t-Evaluations:18\n"
     ]
    }
   ],
   "source": [
    "def f(x):\n",
    "    return ( (0.65) - ( .75/ (1+x**2))- (0.65*x)* ( math.atan(1/x)) )\n",
    "\n",
    "##-- Exhaustive_Search --##\n",
    "def Exhaustive_Search(a,b,epsilon):\n",
    "    print(\"Exhaustive Search: \")\n",
    "    n = 2*(b-a)/epsilon\n",
    "    x1 = a\n",
    "    dx = (b-a)/n\n",
    "    x2 = x1 + dx\n",
    "    x3 = x2 + dx\n",
    "    evalF = 0\n",
    "\n",
    "    while(x1==0 or x2==0 or x3==0):\n",
    "        x1 = x2\n",
    "        x2 = x3\n",
    "        x3 = x2+dx\n",
    "\n",
    "    while (x3 <= b):\n",
    "        evalF +=1\n",
    "        if (f(x1) >= f(x2) <= f(x3)):\n",
    "            print(\"\\t-The optimum point, with an accuracy of {3}, is located in the interval ({0:.3f},{1:.3f})\\n\\t-Evaluations:{2}\".format(x1, x3, evalF+2,epsilon))\n",
    "\n",
    "        x1 = x2\n",
    "        x2 = x3\n",
    "        x3 = x2 + dx\n",
    "        \n",
    "        \n",
    "##-- Phase_of_Bounding --##    \n",
    "def Phase_of_Bounding(x0,delta):\n",
    "        print(\"\\nPhase of Bounding\")\n",
    "        continuar = True\n",
    "        contador = 3\n",
    "        x_m = f(x0 - abs(delta))\n",
    "        x = f(x0)\n",
    "        x_M = f(x0 + abs(delta))\n",
    "        \n",
    "        if x_m >= x >= x_M:\n",
    "            delta = abs (delta) #Delta es positivo\n",
    "            x1 = x0 + delta\n",
    "\n",
    "        else:\n",
    "            if x_m <= x <= x_M :\n",
    "                delta = -abs(delta) #Delta es negativo\n",
    "                x1 = x0 + delta\n",
    "            else:\n",
    "                continuar = False\n",
    "                print(\"\\t-Optimum precision bounding with a delta of {3}, is located in the interval ({0:.3f},{1:.3f})  starting at point {4}\\n\\t-Evaluations:{2}\".format(x0- abs(delta), x0+abs(delta),contador+k,delta,x0))\n",
    "        \n",
    "        if (continuar):\n",
    "            k = 1\n",
    "            x_k = x1\n",
    "            x_k_1 = x_k + (2**k)*delta\n",
    "            f_x_k = f(x_k)\n",
    "\n",
    "            while( f(x_k_1) < f_x_k ):\n",
    "                k += 1\n",
    "                x_k__1 = x_k\n",
    "                x_k = x_k_1\n",
    "                x_k_1 = x_k + (2**k)*delta\n",
    "\n",
    "            print(\"\\t-Optimum precision bounding with a delta of {3}, is located in the interval ({0:.3f},{1:.3f})  starting at point {4}\\n\\t-Evaluations:{2}\".format(x_k__1,x_k_1,contador+k,delta,x0))\n",
    "\n",
    "##-- Dividing_Intervals_In_Half --#\n",
    "def Dividing_Intervals_In_Half(a,b,epsilon):   \n",
    "    print(\"\\nDividing Intervals in half:\")\n",
    "    xm = (a+b)/2\n",
    "    L = b - a\n",
    "    contador = 1\n",
    "\n",
    "    while (abs(L) > epsilon):\n",
    "        x1 = a+L/4\n",
    "        x2 = b-L/4\n",
    "        if f(x1)< f(xm):\n",
    "            b = xm\n",
    "            xm = x1\n",
    "\n",
    "        else:\n",
    "            if f(x2)<f(xm):\n",
    "                a = xm\n",
    "                xm = x2\n",
    "            else:\n",
    "                a = x1\n",
    "                b = x2\n",
    "\n",
    "        L = b-a\n",
    "        contador += 2\n",
    "\n",
    "    print(\"\\t-The optimum point, with an accuracy of {3}, is located in the interval ({0:.3f},{1:.3f})\\n\\t-Evaluations:{2}\".format(a,b,contador,epsilon))\n",
    "\n",
    "##-- Fibonacci_Search --##\n",
    "def fibonacci(n):\n",
    "   if n == 1 or n == 0:\n",
    "       return 1\n",
    "   else:\n",
    "       return(fibonacci(n-1) + fibonacci(n-2))\n",
    "def Fibonacci_Search(a,b,n):\n",
    "    print(\"\\nFibonacciSearch:\")\n",
    "    k = 2\n",
    "    L = b-a\n",
    "\n",
    "    while (k<=n):\n",
    "        L_estrella= (fibonacci(n-k)/fibonacci(n))*L\n",
    "        x1 = a + L_estrella\n",
    "        x2 = b - L_estrella\n",
    "\n",
    "        if f(x1) > f(x2):\n",
    "            a = x1\n",
    "        else:\n",
    "            b = x2\n",
    "        k = k+1\n",
    "\n",
    "    print(\"\\t-The optimum point is located in the interval ({0:.3f},{1:.3f})\\n\\t-Evaluations:{2}\".format(a,b,n))\n",
    "\n",
    "##-- Golden section --##\n",
    "def f_a(w, a, b):\n",
    "    x = w*(b-a)+a\n",
    "    return( f(x), x )\n",
    "\n",
    "def Golden_Section(a,b,epsilon):\n",
    "    print(\"\\nGolden Section:\")\n",
    "    aw, bw, Lw = 0,1,1\n",
    "    evalF = 1\n",
    "    while ( Lw > epsilon/(b-a) ):    \n",
    "        w1, w2 = aw + 0.618*Lw, bw - 0.618*Lw\n",
    "        f_w1, f_w2 = f_a(w1,a,b)[0], f_a(w2,a,b)[0]\n",
    "\n",
    "        if ( f_w1 < f_w2 ):\n",
    "            aw = w2\n",
    "        else:\n",
    "            bw = w1\n",
    "            intervalo = 2\n",
    "        Lw = bw - aw    \n",
    "        evalF += 1\n",
    "    #Normalization\n",
    "    print(\"\\t-The optimum point, with an accuracy of {3}, is located in the interval ({0:.3f},{1:.3f})\\n\\t-Evaluations:{2}\".format(f_a(aw,a,b)[1],f_a(aw,a,b)[1],evalF,epsilon))\n",
    "\n",
    "if __name__==\"__main__\":\n",
    "    a, b, epsilon = 0, 3, 0.001\n",
    "    Exhaustive_Search(a,b,epsilon)\n",
    "    \n",
    "    x0, delta = 0.4, 1e-5\n",
    "    Phase_of_Bounding(x0, delta)\n",
    "    \n",
    "    Dividing_Intervals_In_Half(a,b,epsilon)\n",
    "    \n",
    "    n=17\n",
    "    Fibonacci_Search(a,b,n)\n",
    "    Golden_Section(a,b,epsilon)"
   ]
  },
  {
   "cell_type": "markdown",
   "metadata": {},
   "source": [
    "### 3. Plot $f(x)$ in the interval $[0,3]$"
   ]
  },
  {
   "cell_type": "code",
   "execution_count": 76,
   "metadata": {},
   "outputs": [
    {
     "data": {
      "image/png": "[encoded data removed]",
      "text/plain": [
       "<Figure size 432x288 with 1 Axes>"
      ]
     },
     "metadata": {
      "needs_background": "light"
     },
     "output_type": "display_data"
    }
   ],
   "source": [
    "import math\n",
    "import numpy as np\n",
    "import matplotlib.pyplot as plt\n",
    "\n",
    "def f(x):\n",
    "    return ( (0.65) - ( .75/ (1+x**2))- (0.65*x)* ( math.atan(1/x)) )\n",
    "\n",
    "vecfunc = np.vectorize(f)\n",
    "\n",
    "d = np.arange(0.01, 3.0, 0.001)\n",
    "T = vecfunc(d)\n",
    "plt.plot (d, T, 'go', d, T)\n",
    "plt.grid()\n",
    "plt.show()"
   ]
  },
  {
   "cell_type": "markdown",
   "metadata": {},
   "source": [
    "### 4. Indicate which method is the most efficient and explain why.\n",
    "> The most efficient method was the Golden Section method, because although it performed one more evaluation of the objective function with respect to the Fibonacci Search method (18 to 17), in the Golden Section method it is not necessary to calculate the last element of the Fibonacci sequence and it does not use recursive methods."
   ]
  }
 ],
 "metadata": {
  "kernelspec": {
   "display_name": "Python 3",
   "language": "python",
   "name": "python3"
  },
  "language_info": {
   "codemirror_mode": {
    "name": "ipython",
    "version": 3
   },
   "file_extension": ".py",
   "mimetype": "text/x-python",
   "name": "python",
   "nbconvert_exporter": "python",
   "pygments_lexer": "ipython3",
   "version": "3.8.5"
  }
 },
 "nbformat": 4,
 "nbformat_minor": 4
}
